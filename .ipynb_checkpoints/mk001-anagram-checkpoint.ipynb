{
 "cells": [
  {
   "cell_type": "markdown",
   "metadata": {},
   "source": [
    "# ANAGRAMS\n",
    "\n",
    "Two words are anagrams of each other if they both contain the same letters. \n",
    "\n",
    "For example:  \n",
    " 'abba' & 'baab' == true  \n",
    "'abba' & 'bbaa' == true  \n",
    "'abba' & 'abbba' == false  \n",
    "'abba' & 'abca' == false  \n",
    "\n",
    "Write a function that will find all the anagrams of a word from a list.  You will be given two inputs a word and an array with words. You should return an array of all the anagrams or an empty array if there are none. \n",
    "\n",
    "For example:  \n",
    "`anagrams('abba', ['aabb', 'abcd', 'bbaa', 'dada']) => ['aabb', 'bbaa']`    \n",
    "`anagrams('racer', ['crazer', 'carer', 'racar', 'caers', 'racer']) => ['carer', 'racer']`    \n",
    "`anagrams('laser', ['lazing', 'lazy',  'lacer']) => []`   \n"
   ]
  },
  {
   "cell_type": "markdown",
   "metadata": {},
   "source": [
    "## Function Definitions"
   ]
  },
  {
   "cell_type": "code",
   "execution_count": 2,
   "metadata": {},
   "outputs": [],
   "source": [
    "def anagrams(word, words):    \n",
    "    return [w for w in words if sorted(w) == sorted(word)]"
   ]
  },
  {
   "cell_type": "markdown",
   "metadata": {},
   "source": [
    "## Test"
   ]
  },
  {
   "cell_type": "code",
   "execution_count": 3,
   "metadata": {},
   "outputs": [
    {
     "name": "stdout",
     "output_type": "stream",
     "text": [
      "True\n",
      "True\n",
      "True\n"
     ]
    }
   ],
   "source": [
    "print(anagrams('abba', ['aabb', 'abcd', 'bbaa', 'dada']) \n",
    "      == ['aabb', 'bbaa'])\n",
    "print(anagrams('racer', ['crazer', 'carer', 'racar', 'caers', 'racer']) \n",
    "      == ['carer', 'racer'])\n",
    "print(anagrams('laser', ['lazing', 'lazy', 'lacer']) == [])"
   ]
  }
 ],
 "metadata": {
  "kernelspec": {
   "display_name": "Python 3",
   "language": "python",
   "name": "python3"
  },
  "language_info": {
   "codemirror_mode": {
    "name": "ipython",
    "version": 3
   },
   "file_extension": ".py",
   "mimetype": "text/x-python",
   "name": "python",
   "nbconvert_exporter": "python",
   "pygments_lexer": "ipython3",
   "version": "3.6.8"
  }
 },
 "nbformat": 4,
 "nbformat_minor": 2
}
