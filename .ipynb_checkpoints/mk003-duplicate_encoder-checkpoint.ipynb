{
 "cells": [
  {
   "cell_type": "markdown",
   "metadata": {},
   "source": [
    "# DUPLICATE ENCODER\n",
    "\n",
    "The goal of this exercise is to convert a string to a new string where each character in the new string is '(' if that character appears only once in the original string, or ')' if that character appears more than once in the original string. Ignore capitalization when determining if a character is a duplicate.\n",
    "\n",
    "## Examples:\n",
    "\n",
    "`duplicate_encode(\"din\") => \"(((\"`  \n",
    "`duplicate_encode(\"recede\") => \"()()()\"`  \n",
    "`duplicate_encode(\"Success\") => \")())())\"`  \n",
    "`duplicate_encode(\"(( @\") => \"))((\"`  "
   ]
  },
  {
   "cell_type": "markdown",
   "metadata": {},
   "source": [
    "## Function Definitions"
   ]
  },
  {
   "cell_type": "code",
   "execution_count": 1,
   "metadata": {},
   "outputs": [],
   "source": [
    "def duplicate_encode(word):\n",
    "    word_lower = word.lower()\n",
    "    result = \"\"    \n",
    "    for char in word_lower:\n",
    "        if word_lower.count(char) == 1:\n",
    "            result += \"(\"\n",
    "        else:\n",
    "            result += \")\"\n",
    "    return result   "
   ]
  },
  {
   "cell_type": "markdown",
   "metadata": {},
   "source": [
    "## Test"
   ]
  },
  {
   "cell_type": "code",
   "execution_count": 2,
   "metadata": {},
   "outputs": [
    {
     "name": "stdout",
     "output_type": "stream",
     "text": [
      "True\n",
      "True\n",
      "True\n",
      "True\n"
     ]
    }
   ],
   "source": [
    "print(duplicate_encode(\"din\") == '(((')\n",
    "print(duplicate_encode(\"recede\") == '()()()')\n",
    "print(duplicate_encode(\"Success\") == ')())())')\n",
    "print(duplicate_encode(\"(( @\") == '))((')"
   ]
  }
 ],
 "metadata": {
  "kernelspec": {
   "display_name": "Python 3",
   "language": "python",
   "name": "python3"
  },
  "language_info": {
   "codemirror_mode": {
    "name": "ipython",
    "version": 3
   },
   "file_extension": ".py",
   "mimetype": "text/x-python",
   "name": "python",
   "nbconvert_exporter": "python",
   "pygments_lexer": "ipython3",
   "version": "3.6.8"
  }
 },
 "nbformat": 4,
 "nbformat_minor": 2
}
