{
 "cells": [
  {
   "cell_type": "markdown",
   "metadata": {},
   "source": [
    "# HUMAN READABLE TIME\n",
    "Write a function, which takes a non-negative integer (seconds) as input and  returns the time in a human-readable format (HH:MM:SS):\n",
    "\n",
    "* HH = hours, padded to 2 digits, range: 00 - 99\n",
    "* MM = minutes, padded to 2 digits, range: 00 - 59\n",
    "* SS = seconds, padded to 2 digits, range: 00 - 59\n",
    "\n",
    "The maximum time never exceeds 359999 (99:59:59)"
   ]
  },
  {
   "cell_type": "markdown",
   "metadata": {},
   "source": [
    "## Function Definitions"
   ]
  },
  {
   "cell_type": "code",
   "execution_count": 3,
   "metadata": {},
   "outputs": [],
   "source": [
    "def make_readable(seconds):\n",
    "    time_list = [0, 0, 0]\n",
    "    time_str = \"\"\n",
    "    time_list[2] = seconds\n",
    "    if time_list[2] > 359999:\n",
    "        time_list[2] = 359999\n",
    "    time_list[0] = time_list[2] // 3600\n",
    "    time_list[2] = time_list[2] % 3600\n",
    "    time_list[1] = time_list[2] // 60\n",
    "    time_list[2] = time_list[2] % 60\n",
    "    for item in time_list:\n",
    "        item_str = str(item)\n",
    "        if len(item_str) == 1:\n",
    "            time_str += \"0\" + item_str\n",
    "        else:\n",
    "            time_str += item_str\n",
    "        time_str += \":\"\n",
    "    time_str = time_str[:-1]\n",
    "    return time_str"
   ]
  },
  {
   "cell_type": "markdown",
   "metadata": {},
   "source": [
    "## Test"
   ]
  },
  {
   "cell_type": "code",
   "execution_count": 4,
   "metadata": {},
   "outputs": [
    {
     "name": "stdout",
     "output_type": "stream",
     "text": [
      "True\n",
      "True\n",
      "True\n",
      "True\n",
      "True\n",
      "True\n"
     ]
    }
   ],
   "source": [
    "print(make_readable(0) == \"00:00:00\")\n",
    "print(make_readable(5) == \"00:00:05\")\n",
    "print(make_readable(60) == \"00:01:00\")\n",
    "print(make_readable(86399) == \"23:59:59\")\n",
    "print(make_readable(359999) == \"99:59:59\")\n",
    "print(make_readable(366999) == \"99:59:59\")"
   ]
  },
  {
   "cell_type": "code",
   "execution_count": null,
   "metadata": {},
   "outputs": [],
   "source": []
  }
 ],
 "metadata": {
  "kernelspec": {
   "display_name": "Python 3",
   "language": "python",
   "name": "python3"
  },
  "language_info": {
   "codemirror_mode": {
    "name": "ipython",
    "version": 3
   },
   "file_extension": ".py",
   "mimetype": "text/x-python",
   "name": "python",
   "nbconvert_exporter": "python",
   "pygments_lexer": "ipython3",
   "version": "3.6.8"
  }
 },
 "nbformat": 4,
 "nbformat_minor": 2
}
