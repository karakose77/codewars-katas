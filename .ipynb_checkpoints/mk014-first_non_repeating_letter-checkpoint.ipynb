{
 "cells": [
  {
   "cell_type": "markdown",
   "metadata": {},
   "source": [
    "# FIRST NON-REPEATING LETTER\n",
    "\n",
    "Write a function named first_non_repeating_letter that takes a string input, and returns the first character that is not repeated anywhere in the string. For example, if given the input 'stress', the function should return 't', since the letter t only occurs once in the string, and occurs first in the string.\n",
    "\n",
    "As an added challenge, upper- and lowercase letters are considered the same character, but the function should return the correct case for the initial letter. For example, the input 'sTreSS' should return 'T'.\n",
    "\n",
    "If a string contains all repeating characters, it should return an empty string (\"\") or None -- see sample tests."
   ]
  },
  {
   "cell_type": "markdown",
   "metadata": {},
   "source": [
    "## Function Definitions"
   ]
  },
  {
   "cell_type": "code",
   "execution_count": 1,
   "metadata": {},
   "outputs": [],
   "source": [
    "def first_non_repeating_letter(input_string):\n",
    "    input_string_list = list(input_string)\n",
    "    for char in input_string_list:\n",
    "        if char.lower() != char.upper():\n",
    "            count = input_string_list.count(char.lower()) + \\\n",
    "                    input_string_list.count(char.upper())\n",
    "        else:\n",
    "            count = input_string_list.count(char)\n",
    "        if count == 1:\n",
    "            return char\n",
    "    return None"
   ]
  },
  {
   "cell_type": "markdown",
   "metadata": {},
   "source": [
    "## Test"
   ]
  },
  {
   "cell_type": "code",
   "execution_count": 3,
   "metadata": {},
   "outputs": [
    {
     "name": "stdout",
     "output_type": "stream",
     "text": [
      "True\n",
      "True\n",
      "True\n",
      "True\n",
      "True\n",
      "True\n",
      "True\n",
      "True\n",
      "True\n",
      "True\n"
     ]
    }
   ],
   "source": [
    "print(first_non_repeating_letter('a') == 'a')\n",
    "print(first_non_repeating_letter('stress') == 't')\n",
    "print(first_non_repeating_letter('moonmen') == 'e')\n",
    "print(first_non_repeating_letter('') == None)\n",
    "print(first_non_repeating_letter('abba') == None)\n",
    "print(first_non_repeating_letter('aa') == None)\n",
    "print(first_non_repeating_letter('~><#~><') == '#')\n",
    "print(first_non_repeating_letter('hello world, eh?') == 'w')\n",
    "print(first_non_repeating_letter('sTreSS') == 'T')\n",
    "print(first_non_repeating_letter('Go hang a salami, I\\'m a lasagna hog!') == ',')"
   ]
  },
  {
   "cell_type": "code",
   "execution_count": null,
   "metadata": {},
   "outputs": [],
   "source": []
  }
 ],
 "metadata": {
  "kernelspec": {
   "display_name": "Python 3",
   "language": "python",
   "name": "python3"
  },
  "language_info": {
   "codemirror_mode": {
    "name": "ipython",
    "version": 3
   },
   "file_extension": ".py",
   "mimetype": "text/x-python",
   "name": "python",
   "nbconvert_exporter": "python",
   "pygments_lexer": "ipython3",
   "version": "3.6.8"
  }
 },
 "nbformat": 4,
 "nbformat_minor": 2
}
