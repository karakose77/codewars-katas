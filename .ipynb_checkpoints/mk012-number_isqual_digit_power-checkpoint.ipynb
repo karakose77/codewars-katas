{
 "cells": [
  {
   "cell_type": "markdown",
   "metadata": {},
   "source": [
    "# NUMBER ISEQUAL DIGIT POWER\n",
    "\n",
    "The number $89$ is the first integer with more than one digit that fulfills the property partially introduced in the title of this kata. What's the use of saying \"Eureka\"? Because this sum gives the same number. In effect: $89 = 8^1 + 9^2$. The next number in having this property is $135$. See this property again: $135 = 1^1 + 3^2 + 5^3$.\n",
    "\n",
    "We need a function to collect these numbers, that may receive two integers a, b that defines the range [a, b] (inclusive) and outputs a list of the sorted numbers in the range that fulfills the property described above.\n",
    "\n",
    "## Examples:\n",
    "`number_isequal_sum_digit_power(1, 10) == [1, 2, 3, 4, 5, 6, 7, 8, 9]`  \n",
    "`number_isequal_sum_digit_power(1, 100) == [1, 2, 3, 4, 5, 6, 7, 8, 9, 89]` \n",
    "\n",
    "If there are no numbers of this kind in the range [a, b] the function should output an empty list:  \n",
    "\n",
    "`number_isequal_sum_digit_power(90, 100) == []`"
   ]
  },
  {
   "cell_type": "markdown",
   "metadata": {},
   "source": [
    "## Function Definitions"
   ]
  },
  {
   "cell_type": "code",
   "execution_count": 1,
   "metadata": {},
   "outputs": [],
   "source": [
    "def number_isequal_sum_digit_power(a, b):    \n",
    "    return [n for n in range(a, b + 1) if n == sum([int(p)**(i + 1) for i, p in list(enumerate(list(str(n))))])]"
   ]
  },
  {
   "cell_type": "markdown",
   "metadata": {},
   "source": [
    "## Test"
   ]
  },
  {
   "cell_type": "code",
   "execution_count": 2,
   "metadata": {},
   "outputs": [
    {
     "name": "stdout",
     "output_type": "stream",
     "text": [
      "True\n",
      "True\n"
     ]
    }
   ],
   "source": [
    "print(number_isequal_sum_digit_power(1, 1000) \n",
    "== [1, 2, 3, 4, 5, 6, 7, 8, 9, 89, 135, 175, 518, 598])\n",
    "print(number_isequal_sum_digit_power(90, 100) == [])"
   ]
  }
 ],
 "metadata": {
  "kernelspec": {
   "display_name": "Python 3",
   "language": "python",
   "name": "python3"
  },
  "language_info": {
   "codemirror_mode": {
    "name": "ipython",
    "version": 3
   },
   "file_extension": ".py",
   "mimetype": "text/x-python",
   "name": "python",
   "nbconvert_exporter": "python",
   "pygments_lexer": "ipython3",
   "version": "3.6.8"
  }
 },
 "nbformat": 4,
 "nbformat_minor": 2
}
