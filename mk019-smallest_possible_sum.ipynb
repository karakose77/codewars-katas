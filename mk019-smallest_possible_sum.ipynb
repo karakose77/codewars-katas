{
 "cells": [
  {
   "cell_type": "markdown",
   "metadata": {},
   "source": [
    "# SMALLEST POSSIBLE SUM\n",
    "\n",
    "Given an array X of positive integers, its elements are to be transformed by running the following operation on them as many times as required:\n",
    "\n",
    " `if X[i] > X[j] then X[i] = X[i] - X[j]`\n",
    "\n",
    "When no more transformations are possible, return its sum (\"smallest possible sum\").\n",
    "\n",
    "For instance, the successive transformation of the elements of input `X = [6, 9, 21]` is detailed below:\n",
    "\n",
    "`X_1 = [6, 9, 12] : X_1[2] = X[2] - X[1] = 21 - 9 = 12`  \n",
    "`X_2 = [6, 9, 6]   : X_2[2] = X_1[2] - X_1[0] = 12 - 6 = 6`  \n",
    "`X_3 = [6, 3, 6]  : X_3[1] = X_2[1] - X_2[0] = 9 - 6 = 3`  \n",
    "`X_4 = [6, 3, 3]  : X_4[2] = X_3[2] - X_3[1] = 6 - 3 = 3`  \n",
    "`X_5 = [3, 3, 3]  : X_5[1] = X_4[0] - X_4[1] = 6 - 3 = 3`  \n",
    "\n",
    "The returning output is the sum of the final transformation (here 9)."
   ]
  },
  {
   "cell_type": "markdown",
   "metadata": {},
   "source": [
    "## Function Definitions"
   ]
  },
  {
   "cell_type": "code",
   "execution_count": 21,
   "metadata": {},
   "outputs": [],
   "source": [
    "def smallest_possible_sum(input_list):\n",
    "    input_list_length = len(input_list)\n",
    "    input_list = set(input_list)\n",
    "    while len(input_list) != 1:\n",
    "        input_list_max = max(input_list)\n",
    "        input_list.remove(input_list_max)\n",
    "        input_list.add(input_list_max-max(input_list))\n",
    "    return(max(input_list) * input_list_length)"
   ]
  },
  {
   "cell_type": "code",
   "execution_count": 22,
   "metadata": {},
   "outputs": [
    {
     "data": {
      "text/plain": [
       "9"
      ]
     },
     "execution_count": 22,
     "metadata": {},
     "output_type": "execute_result"
    }
   ],
   "source": [
    "smallest_possible_sum([6, 9, 21])"
   ]
  },
  {
   "cell_type": "code",
   "execution_count": null,
   "metadata": {},
   "outputs": [],
   "source": []
  }
 ],
 "metadata": {
  "kernelspec": {
   "display_name": "Python 3",
   "language": "python",
   "name": "python3"
  },
  "language_info": {
   "codemirror_mode": {
    "name": "ipython",
    "version": 3
   },
   "file_extension": ".py",
   "mimetype": "text/x-python",
   "name": "python",
   "nbconvert_exporter": "python",
   "pygments_lexer": "ipython3",
   "version": "3.6.8"
  }
 },
 "nbformat": 4,
 "nbformat_minor": 2
}
