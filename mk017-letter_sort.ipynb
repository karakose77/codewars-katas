{
 "cells": [
  {
   "cell_type": "markdown",
   "metadata": {},
   "source": [
    "# SORTING MAXIMUM REPEATING LETTERS IN TWO STRINGS\n",
    "\n",
    "Given two strings s1 and s2, we want to visualize how different the two strings are. We will only take into account the lowercase letters (a to z). First let us count the frequency of each lowercase letters in s1 and s2.\n",
    "\n",
    "```\n",
    "s1 = \"A aaaa bb c\"\n",
    "s2 = \"& aaa bbb c d\"\n",
    "s1 has 4 'a', 2 'b', 1 'c'\n",
    "s2 has 3 'a', 3 'b', 1 'c', 1 'd'\n",
    "```\n",
    "\n",
    "So the maximum for `'a'` in `s1` and `s2` is `4` from `s1`; the maximum for `'b'` is `3` from `s2`. In the following we will not consider letters when the maximum of their occurrences is less than or equal to 1.\n",
    "\n",
    "We can resume the differences between `s1` and `s2` in the following string: `\"1:aaaa/2:bbb\"` where `1` in `1:aaaa` stands for string `s1` and `aaaa` because the maximum for `a` is `4`. In the same manner `2:bbb` stands for string `s2` and `bbb` because the maximum for `b` is `3`.\n",
    "\n",
    "The task is to produce a string in which each lowercase letters of `s1` or `s2` appears as many times as its maximum if this maximum is strictly greater than `1`; these letters will be prefixed by the number of the string where they appear with their maximum value and `:`. If the maximum is in `s1` as well as in `s2` the prefix is `=:`.\n",
    "\n",
    "In the result, substrings (a substring is for example `2:nnnnn` or `1:hhh`; it contains the prefix) will be in decreasing order of their length and when they have the same length sorted in ascending lexicographic order (letters and digits - more precisely sorted by codepoint); the different groups will be separated by `'/'`. \n",
    "\n",
    "Hopefully other examples can make this clearer.\n",
    "\n",
    "```\n",
    "s1 = \"my&friend&Paul has heavy hats! &\"\n",
    "s2 = \"my friend John has many many friends &\"\n",
    "mix(s1, s2) --> \"2:nnnnn/1:aaaa/1:hhh/2:mmm/2:yyy/2:dd/2:ff/2:ii/2:rr/=:ee/=:ss\"\n",
    "\n",
    "s1 = \"mmmmm m nnnnn y&friend&Paul has heavy hats! &\"\n",
    "s2 = \"my frie n d Joh n has ma n y ma n y frie n ds n&\"\n",
    "mix(s1, s2) --> \"1:mmmmmm/=:nnnnnn/1:aaaa/1:hhh/2:yyy/2:dd/2:ff/2:ii/2:rr/=:ee/=:ss\"\n",
    "\n",
    "s1=\"Are the kids at home? aaaaa fffff\"\n",
    "s2=\"Yes they are here! aaaaa fffff\"\n",
    "mix(s1, s2) --> \"=:aaaaaa/2:eeeee/=:fffff/1:tt/2:rr/=:hh\"\n",
    "```"
   ]
  },
  {
   "cell_type": "markdown",
   "metadata": {},
   "source": [
    "## Function Definitions"
   ]
  },
  {
   "cell_type": "code",
   "execution_count": 67,
   "metadata": {},
   "outputs": [],
   "source": [
    "def generate_letter_frequency_list(string1, string2):\n",
    "    letter_frequency_list = []\n",
    "    for letter in \"abcdefghijklmnopqrstuvwxyz\":\n",
    "        if string1.count(letter) > 1 or string2.count(letter) > 1:\n",
    "            if string1.count(letter) > string2.count(letter):\n",
    "                letter_frequency_list.append([letter, 0.3, \"1:\", string1.count(letter)])\n",
    "            elif string1.count(letter) < string2.count(letter):\n",
    "                letter_frequency_list.append([letter, 0.2, \"2:\", string2.count(letter)])\n",
    "            else:\n",
    "                letter_frequency_list.append([letter, 0.1, \"=:\", string1.count(letter)])\n",
    "    letter_frequency_list.sort(reverse=True, key=lambda element:(element[1] + element[3]))\n",
    "    return letter_frequency_list\n",
    "\n",
    "def generate_return_string(letter_frequency_list):\n",
    "    return_string = \"\"    \n",
    "    for item in letter_frequency_list:\n",
    "        return_string += item[2]\n",
    "        return_string += item[0] * item[3]\n",
    "        return_string += \"/\"\n",
    "    return return_string[:-1]\n",
    "\n",
    "def letter_sort(string1, string2):    \n",
    "    return generate_return_string(generate_letter_frequency_list(string1, string2))"
   ]
  },
  {
   "cell_type": "code",
   "execution_count": 68,
   "metadata": {},
   "outputs": [
    {
     "name": "stdout",
     "output_type": "stream",
     "text": [
      "True\n"
     ]
    }
   ],
   "source": [
    "string1 = \"my&friend&Paul has heavy hats! &\"\n",
    "string2 = \"my friend John has many many friends &\"\n",
    "print(letter_sort(string1, string2) == \n",
    "      \"2:nnnnn/1:aaaa/1:hhh/2:mmm/2:yyy/2:dd/2:ff/2:ii/2:rr/=:ee/=:ss\")"
   ]
  },
  {
   "cell_type": "code",
   "execution_count": 69,
   "metadata": {},
   "outputs": [
    {
     "name": "stdout",
     "output_type": "stream",
     "text": [
      "True\n"
     ]
    }
   ],
   "source": [
    "string1 = \"mmmmm m nnnnn y&friend&Paul has heavy hats! &\"\n",
    "string2 = \"my frie n d Joh n has ma n y ma n y frie n ds n&\"\n",
    "print(letter_sort(string1, string2) ==\n",
    "      \"1:mmmmmm/=:nnnnnn/1:aaaa/1:hhh/2:yyy/2:dd/2:ff/2:ii/2:rr/=:ee/=:ss\")"
   ]
  },
  {
   "cell_type": "code",
   "execution_count": 70,
   "metadata": {},
   "outputs": [
    {
     "name": "stdout",
     "output_type": "stream",
     "text": [
      "True\n"
     ]
    }
   ],
   "source": [
    "string1 = \"Are the kids at home? aaaaa fffff\"\n",
    "string2 = \"Yes they are here! aaaaa fffff\"\n",
    "print(letter_sort(string1, string2) ==\n",
    "      \"=:aaaaaa/2:eeeee/=:fffff/1:tt/2:rr/=:hh\")"
   ]
  },
  {
   "cell_type": "code",
   "execution_count": null,
   "metadata": {},
   "outputs": [],
   "source": []
  }
 ],
 "metadata": {
  "kernelspec": {
   "display_name": "Python 3",
   "language": "python",
   "name": "python3"
  },
  "language_info": {
   "codemirror_mode": {
    "name": "ipython",
    "version": 3
   },
   "file_extension": ".py",
   "mimetype": "text/x-python",
   "name": "python",
   "nbconvert_exporter": "python",
   "pygments_lexer": "ipython3",
   "version": "3.6.8"
  }
 },
 "nbformat": 4,
 "nbformat_minor": 2
}
