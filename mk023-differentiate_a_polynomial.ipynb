{
 "cells": [
  {
   "cell_type": "markdown",
   "metadata": {
    "toc-hr-collapsed": true
   },
   "source": [
    "# DIFFERENTIATE A POLYNOMIAL\n",
    "\n",
    "Create a function that differentiates a polynomial for a given value of x.\n",
    "\n",
    "Your function will receive 2 arguments: a polynomial as a string, and a point to evaluate the equation as an integer.\n",
    "\n",
    "## Assumptions:\n",
    "\n",
    "* There will be a coefficient near each x, unless the coefficient equals 1 or -1.\n",
    "* There will be an exponent near each x, unless the exponent equals 0 or 1.\n",
    "* All exponents will be greater or equal to zero.\n",
    "\n",
    "## Examples:\n",
    "\n",
    "`differenatiate(\"12x+2\", 3)      ==>   returns 12`  \n",
    "`differenatiate(\"x^2+3x+2\", 3)   ==>   returns 9`\n",
    "\n",
    "## Function Definitions"
   ]
  },
  {
   "cell_type": "code",
   "execution_count": 1,
   "metadata": {
    "ExecuteTime": {
     "end_time": "2019-07-21T10:06:30.320516Z",
     "start_time": "2019-07-21T10:06:30.301511Z"
    }
   },
   "outputs": [],
   "source": [
    "def differentiate(equation_string, point):\n",
    "    \n",
    "    if equation_string[0] not in \"+-\":\n",
    "        equation_string = \"+\" + equation_string\n",
    "    equation_string += \"+\"\n",
    "    \n",
    "    term_list = []\n",
    "    index_start = 0    \n",
    "    for i in list(range(len(equation_string))):\n",
    "        if equation_string[i] in \"-+\" and i != 0:\n",
    "            term_list.append(equation_string[index_start:i])\n",
    "            index_start = i            \n",
    "    \n",
    "    equation = 0\n",
    "    result = 0 \n",
    "    for item in term_list:\n",
    "        try:\n",
    "            coeff = int(item)\n",
    "            power = 0\n",
    "        except:\n",
    "            for i in list(range(len(item))):\n",
    "                if item[i] == \"x\":\n",
    "                    try:\n",
    "                        coeff = int(item[0:i])\n",
    "                    except:\n",
    "                        if item[0] == \"+\":\n",
    "                            coeff = 1\n",
    "                        else:\n",
    "                            coeff = -1\n",
    "                    try:\n",
    "                        if item[i+1] == \"^\":\n",
    "                            power = int(item[i+2:])\n",
    "                    except:\n",
    "                        power = 1                        \n",
    "        result += coeff * power * point ** (power - 1)\n",
    "    \n",
    "    return int('{:.0f}'.format(result))"
   ]
  },
  {
   "cell_type": "code",
   "execution_count": 2,
   "metadata": {
    "ExecuteTime": {
     "end_time": "2019-07-21T10:06:32.496002Z",
     "start_time": "2019-07-21T10:06:32.481995Z"
    }
   },
   "outputs": [
    {
     "data": {
      "text/plain": [
       "-20"
      ]
     },
     "execution_count": 2,
     "metadata": {},
     "output_type": "execute_result"
    }
   ],
   "source": [
    "differentiate(\"-5x^2+10x+4\", 3)"
   ]
  },
  {
   "cell_type": "code",
   "execution_count": 3,
   "metadata": {
    "ExecuteTime": {
     "end_time": "2019-07-21T10:06:33.753109Z",
     "start_time": "2019-07-21T10:06:33.746104Z"
    }
   },
   "outputs": [
    {
     "data": {
      "text/plain": [
       "12"
      ]
     },
     "execution_count": 3,
     "metadata": {},
     "output_type": "execute_result"
    }
   ],
   "source": [
    "differentiate(\"12x+2\", 3)"
   ]
  },
  {
   "cell_type": "code",
   "execution_count": 4,
   "metadata": {
    "ExecuteTime": {
     "end_time": "2019-07-21T10:06:34.452373Z",
     "start_time": "2019-07-21T10:06:34.442367Z"
    }
   },
   "outputs": [
    {
     "data": {
      "text/plain": [
       "5"
      ]
     },
     "execution_count": 4,
     "metadata": {},
     "output_type": "execute_result"
    }
   ],
   "source": [
    "differentiate(\"x^2-x\", 3)"
   ]
  },
  {
   "cell_type": "code",
   "execution_count": null,
   "metadata": {},
   "outputs": [],
   "source": []
  }
 ],
 "metadata": {
  "hide_input": false,
  "kernelspec": {
   "display_name": "Python 3",
   "language": "python",
   "name": "python3"
  },
  "language_info": {
   "codemirror_mode": {
    "name": "ipython",
    "version": 3
   },
   "file_extension": ".py",
   "mimetype": "text/x-python",
   "name": "python",
   "nbconvert_exporter": "python",
   "pygments_lexer": "ipython3",
   "version": "3.7.3"
  },
  "toc": {
   "base_numbering": 1,
   "nav_menu": {},
   "number_sections": true,
   "sideBar": true,
   "skip_h1_title": false,
   "title_cell": "Table of Contents",
   "title_sidebar": "Contents",
   "toc_cell": false,
   "toc_position": {},
   "toc_section_display": true,
   "toc_window_display": false
  },
  "toc-showmarkdowntxt": false,
  "varInspector": {
   "cols": {
    "lenName": 16,
    "lenType": 16,
    "lenVar": 40
   },
   "kernels_config": {
    "python": {
     "delete_cmd_postfix": "",
     "delete_cmd_prefix": "del ",
     "library": "var_list.py",
     "varRefreshCmd": "print(var_dic_list())"
    },
    "r": {
     "delete_cmd_postfix": ") ",
     "delete_cmd_prefix": "rm(",
     "library": "var_list.r",
     "varRefreshCmd": "cat(var_dic_list()) "
    }
   },
   "types_to_exclude": [
    "module",
    "function",
    "builtin_function_or_method",
    "instance",
    "_Feature"
   ],
   "window_display": false
  }
 },
 "nbformat": 4,
 "nbformat_minor": 2
}
