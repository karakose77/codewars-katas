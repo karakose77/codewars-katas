{
 "cells": [
  {
   "cell_type": "markdown",
   "metadata": {},
   "source": [
    "# AWESOME NUMBERS\n",
    "\n",
    "\"7777...8?!??!\", exclaimed Bob, \"I missed it again! Argh!\" Every time there's an interesting number coming up, he notices and then promptly forgets. Who doesn't like catching those one-off interesting mileage numbers?\n",
    "\n",
    "Let's make it so Bob never misses another interesting number. We've hacked into his car's computer, and we have a box hooked up that reads mileage numbers. We've got a box glued to his dash that lights up yellow or green depending on whether it receives a 1 or a 2 (respectively).\n",
    "\n",
    "It's up to you, intrepid warrior, to glue the parts together. Write the function that parses the mileage number input, and returns a 2 if the number is \"interesting\" (see below), a 1 if an interesting number occurs within the next two miles, or a 0 if the number is not interesting.\n",
    "\n",
    "## \"Interesting\" Numbers\n",
    "\n",
    "Interesting numbers are 3-or-more digit numbers that meet one or more of the following criteria:\n",
    "\n",
    "1. Any digit followed by all zeros: 100, 90000\n",
    "2. Every digit is the same number: 1111\n",
    "3. The digits are sequential, incementing†: 1234\n",
    "4. The digits are sequential, decrementing‡: 4321\n",
    "5. The digits are a palindrome: 1221 or 73837\n",
    "6. The digits match one of the values in the awesome_phrases array\n",
    "\n",
    "† For incrementing sequences, 0 should come after 9, and not before 1, as in 7890.  \n",
    "‡ For decrementing sequences, 0 should come after 1, and not before 9, as in 3210.  \n",
    "\n",
    "So, you should expect these inputs and outputs:\n",
    "\n",
    "## \"boring\" numbers\n",
    "`is_interesting(3, [1337, 256]) ==> 0`  \n",
    "`is_interesting(3236, [1337, 256]) ==> 0`  \n",
    "\n",
    "## progress as we near an \"interesting\" number\n",
    "`is_interesting(11207, []) ==> 0`  \n",
    "`is_interesting(11208, []) ==> 0`  \n",
    "`is_interesting(11209, []) ==> 1`  \n",
    "`is_interesting(11210, []) ==> 1`  \n",
    "`is_interesting(11211, []) ==> 2`  \n",
    "\n",
    "## nearing a provided \"awesome phrase\"\n",
    "`is_interesting(1335, [1337, 256]) ==> 1`  \n",
    "`is_interesting(1336, [1337, 256]) ==> 1`  \n",
    "`is_interesting(1337, [1337, 256]) ==> 2`  \n",
    "\n",
    "## Error Checking\n",
    "\n",
    "1. A number is only interesting if it is greater than 99!\n",
    "2. Input will always be an integer greater than 0, and less than 1,000,000,000.\n",
    "3. The awesomePhrases array will always be provided, and will always be an array, but may be empty. (Not everyone thinks numbers spell funny words...)\n",
    "4. You should only ever output 0, 1, or 2."
   ]
  },
  {
   "cell_type": "markdown",
   "metadata": {},
   "source": [
    "## Function Definitions"
   ]
  },
  {
   "cell_type": "code",
   "execution_count": 53,
   "metadata": {},
   "outputs": [],
   "source": [
    "def is_between_3_and_10_digits(number): return number > 99 and number < 10**9\n",
    "\n",
    "def awesome_phrases_exist(awesome_phrases): return type(awesome_phrases) == list\n",
    "\n",
    "def is_all_zeros_except_0th(number): return set(str(number)[1:]) == {'0'}\n",
    "\n",
    "def is_same_every_digit(number): return len(set(str(number))) == 1\n",
    "\n",
    "def is_sequential(number):return str(number) in \"1234567890\" or  str(number) in \"9876543210\"\n",
    "\n",
    "def is_palindrome(number): return str(number) == str(number)[::-1]\n",
    "\n",
    "def is_in_awesome_phrases(number, awesome_phrases): return number in awesome_phrases\n",
    "\n",
    "def error_checking(number, awesome_phrases):\n",
    "    return is_between_3_and_10_digits(number) and awesome_phrases_exist(awesome_phrases)\n",
    "\n",
    "def number_checking(number, awesome_phrases):\n",
    "    return is_all_zeros_except_0th(number) or \\\n",
    "           is_same_every_digit(number) or \\\n",
    "           is_sequential(number) or \\\n",
    "           is_palindrome(number) or \\\n",
    "           is_in_awesome_phrases(number, awesome_phrases)\n",
    "\n",
    "def boolean_interesting(number, awesome_phrases):\n",
    "    return error_checking(number, awesome_phrases) and number_checking(number, awesome_phrases)\n",
    "\n",
    "def is_interesting(number, awesome_phrases):\n",
    "    if boolean_interesting(number, awesome_phrases):\n",
    "        return 2\n",
    "    elif boolean_interesting(number+1, awesome_phrases) or boolean_interesting(number+2, awesome_phrases):\n",
    "        return 1\n",
    "    else:\n",
    "        return 0"
   ]
  },
  {
   "cell_type": "code",
   "execution_count": 54,
   "metadata": {},
   "outputs": [
    {
     "name": "stdout",
     "output_type": "stream",
     "text": [
      "True\n",
      "True\n",
      "True\n",
      "True\n",
      "True\n",
      "True\n",
      "True\n",
      "True\n",
      "True\n",
      "True\n"
     ]
    }
   ],
   "source": [
    "print(is_interesting(3, [1337, 256]) == 0)\n",
    "print(is_interesting(3236, [1337, 256]) == 0)\n",
    "print(is_interesting(11207, []) == 0)\n",
    "print(is_interesting(11208, []) == 0)\n",
    "print(is_interesting(11209, []) == 1)\n",
    "print(is_interesting(11210, []) == 1)\n",
    "print(is_interesting(11211, []) == 2)\n",
    "print(is_interesting(1335, [1337, 256]) == 1)\n",
    "print(is_interesting(1336, [1337, 256]) == 1)\n",
    "print(is_interesting(1337, [1337, 256]) == 2)"
   ]
  }
 ],
 "metadata": {
  "kernelspec": {
   "display_name": "Python 3",
   "language": "python",
   "name": "python3"
  },
  "language_info": {
   "codemirror_mode": {
    "name": "ipython",
    "version": 3
   },
   "file_extension": ".py",
   "mimetype": "text/x-python",
   "name": "python",
   "nbconvert_exporter": "python",
   "pygments_lexer": "ipython3",
   "version": "3.6.8"
  }
 },
 "nbformat": 4,
 "nbformat_minor": 2
}
