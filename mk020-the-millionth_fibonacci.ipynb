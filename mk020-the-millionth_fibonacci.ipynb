{
 "cells": [
  {
   "cell_type": "markdown",
   "metadata": {},
   "source": [
    "# THE MILLIONTH FIBONACCI\n",
    "\n",
    "In this kata you will have to calculate fib(n) where:\n",
    "\n",
    "`fib(0) := 0`  \n",
    "`fib(1) := 1`  \n",
    "`fin(n + 2) := fib(n + 1) + fib(n)`  \n",
    "\n",
    "Write an algorithm that can handle n up to 2000000.\n",
    "\n",
    "Your algorithm must output the exact integer answer, to full precision. Also, it must correctly handle negative numbers as input.\n",
    "\n",
    "HINT: Can you rearrange the equation `fib(n + 2) = fib(n + 1) + fib(n)` to find `fib(n)` if you already know `fib(n + 1)` and `fib(n + 2)`? Use this to reason what value fib has to have for negative values."
   ]
  },
  {
   "cell_type": "markdown",
   "metadata": {},
   "source": [
    "## Function Definitions"
   ]
  },
  {
   "cell_type": "code",
   "execution_count": 6,
   "metadata": {},
   "outputs": [],
   "source": [
    " def fib(n, memo={}):\n",
    "    if n == 0:\n",
    "        return 0\n",
    "    elif n == 1:\n",
    "        return 1  \n",
    "    elif n > 1:        \n",
    "        try:\n",
    "            return memo[n]        \n",
    "        except KeyError:\n",
    "            memo[n] = (fib(n-1, memo) + fib(n-2, memo))\n",
    "            return memo[n]\n",
    "    else:\n",
    "        try:\n",
    "            return memo[n]         \n",
    "        except KeyError:\n",
    "            memo[n] = (-fib(n+1, memo) + fib(n+2, memo))\n",
    "            return memo[n]"
   ]
  },
  {
   "cell_type": "code",
   "execution_count": 8,
   "metadata": {},
   "outputs": [
    {
     "name": "stdout",
     "output_type": "stream",
     "text": [
      "True\n",
      "True\n",
      "True\n",
      "True\n",
      "True\n",
      "True\n",
      "True\n",
      "True\n",
      "True\n",
      "True\n",
      "True\n",
      "True\n",
      "True\n",
      "True\n",
      "True\n",
      "True\n",
      "True\n",
      "True\n",
      "True\n",
      "True\n"
     ]
    }
   ],
   "source": [
    "print(fib(0) == 0)\n",
    "print(fib(1) == 1)\n",
    "print(fib(2) == 1)\n",
    "print(fib(3) == 2)\n",
    "print(fib(4) == 3)\n",
    "print(fib(5) == 5)\n",
    "print(fib(-5) == 5)\n",
    "print(fib(-6) == -8)\n",
    "print(fib(-11) == 89)\n",
    "print(fib(-20) == -6765)\n",
    "print(fib(-28) == -317811)\n",
    "print(fib(-40) == -102334155)\n",
    "print(fib(-56) == -225851433717)\n",
    "print(fib(-67) == 44945570212853)\n",
    "print(fib(-70) == -190392490709135)\n",
    "print(fib(-88) == -1100087778366101931)\n",
    "print(fib(-96) == -51680708854858323072)\n",
    "print(fib(1000) == 43466557686937456435688527675040625802564660517371780402481729089536555417949051890403879840079255169295922593080322634775209689623239873322471161642996440906533187938298969649928516003704476137795166849228875)\n",
    "print(fib(1001) == 70330367711422815821835254877183549770181269836358732742604905087154537118196933579742249494562611733487750449241765991088186363265450223647106012053374121273867339111198139373125598767690091902245245323403501)\n",
    "print(fib(1001)/fib(1000) == (1 + 5**0.5) / 2)"
   ]
  },
  {
   "cell_type": "code",
   "execution_count": null,
   "metadata": {},
   "outputs": [],
   "source": []
  }
 ],
 "metadata": {
  "kernelspec": {
   "display_name": "Python 3",
   "language": "python",
   "name": "python3"
  },
  "language_info": {
   "codemirror_mode": {
    "name": "ipython",
    "version": 3
   },
   "file_extension": ".py",
   "mimetype": "text/x-python",
   "name": "python",
   "nbconvert_exporter": "python",
   "pygments_lexer": "ipython3",
   "version": "3.6.8"
  }
 },
 "nbformat": 4,
 "nbformat_minor": 2
}
