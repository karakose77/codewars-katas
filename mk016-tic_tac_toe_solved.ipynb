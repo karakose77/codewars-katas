{
 "cells": [
  {
   "cell_type": "markdown",
   "metadata": {},
   "source": [
    "# TIC-TAC-TOE IS SOLVED?\n",
    "\n",
    "If we were to set up a Tic-Tac-Toe game, we would want to know whether the board's current state is solved, wouldn't we? Our goal is to create a function that will check that for us!\n",
    "\n",
    "Assume that the board comes in the form of a 3x3 array, where the value is 0 if a spot is empty, 1 if it is an \"X\", or 2 if it is an \"O\", like so:\n",
    "\n",
    "    [[0, 0, 1],  \n",
    "     [0, 1, 2],  \n",
    "     [2, 1, 0]]  \n",
    "We want our function to return:\n",
    "\n",
    "    -1 if the board is not yet finished (there are empty spots),\n",
    "     1 if \"X\" won,\n",
    "     2 if \"O\" won,\n",
    "     0 if it's a cat's game (i.e. a draw).\n",
    "    \n",
    "You may assume that the board passed in is valid in the context of a game of Tic-Tac-Toe."
   ]
  },
  {
   "cell_type": "markdown",
   "metadata": {},
   "source": [
    "## Function Definitions"
   ]
  },
  {
   "cell_type": "code",
   "execution_count": 39,
   "metadata": {},
   "outputs": [],
   "source": [
    "def is_solved(board):\n",
    "    if check_rows(board):\n",
    "        return check_rows(board)\n",
    "    elif check_columns(board):\n",
    "        return check_columns(board)\n",
    "    elif check_diagonal(board):\n",
    "        return check_diagonal(board)\n",
    "    elif check_diagonal_transpose(board):\n",
    "        return check_diagonal_transpose(board)\n",
    "    else:\n",
    "        if check_empty(board):\n",
    "            return -1\n",
    "        else:\n",
    "            return 0\n",
    "\n",
    "def check_empty(board):\n",
    "    return 0 in [element for row in board for element in row]\n",
    "    \n",
    "def check_rows(board):\n",
    "    for row in board:\n",
    "        if len(set(row)) == 1:\n",
    "            return X_or_O(row)\n",
    "\n",
    "def X_or_O(row):\n",
    "    if row[0] == 1:\n",
    "        return 1\n",
    "    elif row[0] == 2:\n",
    "        return 2\n",
    "            \n",
    "def check_columns(board):\n",
    "    return check_rows(list(map(list, zip(*board))))\n",
    "    \n",
    "def check_diagonal(board):\n",
    "    diagonal_row = []\n",
    "    for i in range(len(board)):\n",
    "        diagonal_row.append(board[i][i])\n",
    "    if len(set(diagonal_row)) == 1:\n",
    "        return X_or_O(diagonal_row)\n",
    "    \n",
    "def check_diagonal_transpose(board):\n",
    "    return check_diagonal(list(map(list, zip(*board))))"
   ]
  },
  {
   "cell_type": "code",
   "execution_count": 55,
   "metadata": {},
   "outputs": [
    {
     "data": {
      "text/plain": [
       "True"
      ]
     },
     "execution_count": 55,
     "metadata": {},
     "output_type": "execute_result"
    }
   ],
   "source": [
    "board = [[2, 1, 2],\n",
    "         [2, 1, 1],\n",
    "         [1, 2, 1]]\n",
    "is_solved(board) == 0"
   ]
  },
  {
   "cell_type": "code",
   "execution_count": 56,
   "metadata": {},
   "outputs": [
    {
     "data": {
      "text/plain": [
       "True"
      ]
     },
     "execution_count": 56,
     "metadata": {},
     "output_type": "execute_result"
    }
   ],
   "source": [
    "board = [[2, 1, 2],\n",
    "         [2, 1, 1],\n",
    "         [1, 1, 2]]\n",
    "is_solved(board) == 1"
   ]
  },
  {
   "cell_type": "code",
   "execution_count": 57,
   "metadata": {},
   "outputs": [
    {
     "data": {
      "text/plain": [
       "True"
      ]
     },
     "execution_count": 57,
     "metadata": {},
     "output_type": "execute_result"
    }
   ],
   "source": [
    "board = [[0, 0, 1],\n",
    "         [0, 1, 2],\n",
    "         [2, 1, 0]]\n",
    "is_solved(board) == -1"
   ]
  },
  {
   "cell_type": "code",
   "execution_count": 58,
   "metadata": {},
   "outputs": [
    {
     "data": {
      "text/plain": [
       "True"
      ]
     },
     "execution_count": 58,
     "metadata": {},
     "output_type": "execute_result"
    }
   ],
   "source": [
    "board = [[1, 1, 1],\n",
    "         [0, 2, 2],\n",
    "         [0, 0, 0]]\n",
    "is_solved(board) == 1"
   ]
  },
  {
   "cell_type": "code",
   "execution_count": null,
   "metadata": {},
   "outputs": [],
   "source": []
  }
 ],
 "metadata": {
  "kernelspec": {
   "display_name": "Python 3",
   "language": "python",
   "name": "python3"
  },
  "language_info": {
   "codemirror_mode": {
    "name": "ipython",
    "version": 3
   },
   "file_extension": ".py",
   "mimetype": "text/x-python",
   "name": "python",
   "nbconvert_exporter": "python",
   "pygments_lexer": "ipython3",
   "version": "3.6.8"
  }
 },
 "nbformat": 4,
 "nbformat_minor": 2
}
