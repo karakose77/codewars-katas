{
 "cells": [
  {
   "cell_type": "markdown",
   "metadata": {},
   "source": [
    "# ANAGRAMS\n",
    "\n",
    "Two words are anagrams of each other if they both contain the same letters. \n",
    "\n",
    "For example:  \n",
    " 'abba' & 'baab' == true  \n",
    "'abba' & 'bbaa' == true  \n",
    "'abba' & 'abbba' == false  \n",
    "'abba' & 'abca' == false  \n",
    "\n",
    "Write a function that will find all the anagrams of a word from a list.  You will be given two inputs a word and an array with words. You should return an array of all the anagrams or an empty array if there are none. \n",
    "\n",
    "For example:  \n",
    "`anagrams('abba', ['aabb', 'abcd', 'bbaa', 'dada']) => ['aabb', 'bbaa']`    \n",
    "`anagrams('racer', ['crazer', 'carer', 'racar', 'caers', 'racer']) => ['carer', 'racer']`    \n",
    "`anagrams('laser', ['lazing', 'lazy',  'lacer']) => []`   \n"
   ]
  },
  {
   "cell_type": "markdown",
   "metadata": {},
   "source": [
    "## Function Definitions"
   ]
  },
  {
   "cell_type": "code",
   "execution_count": 1,
   "metadata": {
    "pycharm": {
     "is_executing": false
    }
   },
   "outputs": [],
   "source": [
    "def anagrams(word, words):    \n",
    "    return [w for w in words if sorted(w) == sorted(word)]"
   ]
  },
  {
   "cell_type": "markdown",
   "metadata": {},
   "source": [
    "## Test"
   ]
  },
  {
   "cell_type": "code",
   "execution_count": 2,
   "metadata": {
    "pycharm": {
     "is_executing": false
    }
   },
   "outputs": [
    {
     "name": "stdout",
     "text": [
      "True\nTrue\nTrue\n"
     ],
     "output_type": "stream"
    }
   ],
   "source": [
    "print(anagrams('abba', ['aabb', 'abcd', 'bbaa', 'dada']) \n",
    "      == ['aabb', 'bbaa'])\n",
    "print(anagrams('racer', ['crazer', 'carer', 'racar', 'caers', 'racer']) \n",
    "      == ['carer', 'racer'])\n",
    "print(anagrams('laser', ['lazing', 'lazy', 'lacer']) == [])"
   ]
  }
 ],
 "metadata": {
  "kernelspec": {
   "name": "pycharm-200b3ee4",
   "language": "python",
   "display_name": "PyCharm (hello_world)"
  },
  "language_info": {
   "codemirror_mode": {
    "name": "ipython",
    "version": 3
   },
   "file_extension": ".py",
   "mimetype": "text/x-python",
   "name": "python",
   "nbconvert_exporter": "python",
   "pygments_lexer": "ipython3",
   "version": "3.6.8"
  }
 },
 "nbformat": 4,
 "nbformat_minor": 2
}