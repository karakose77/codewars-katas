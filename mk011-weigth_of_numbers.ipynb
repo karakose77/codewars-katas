{
 "cells": [
  {
   "cell_type": "markdown",
   "metadata": {},
   "source": [
    "# WEIGHT OF NUMBERS\n",
    "\n",
    "Given a string of number sort them according to their weight. For example 99 will have \"weight\" 18, 100 will have \"weight\" 1 so in the list 100 will come before 99. \n",
    "\n",
    "## Example:\n",
    "\n",
    "\"56 65 74 100 99 68 86 180 90\" ordered by numbers weights becomes: \"100 180 90 56 65 74 68 86 99\". When two numbers have the same \"weight\", let us class them as if they were strings and not numbers: 100 is before 180 because its \"weight\" (1) is less than the one of 180 (9) and 180 is before 90 since, having the same \"weight\" (9) it comes before as a string. All numbers in the list are positive numbers and the list can be empty.\n",
    "\n",
    "## Notes\n",
    "\n",
    "* It may happen that the input string have leading, trailing whitespaces and more than a unique whitespace between two consecutive numbers.\n",
    "* Don't modify the input."
   ]
  },
  {
   "cell_type": "markdown",
   "metadata": {},
   "source": [
    "## Function Definitions"
   ]
  },
  {
   "cell_type": "code",
   "execution_count": 1,
   "metadata": {},
   "outputs": [],
   "source": [
    "def order_weight(strng):\n",
    "    return \" \".join(sorted(sorted(strng.split(\" \")), key = lambda n: sum([int(c) for c in list(n)])))"
   ]
  },
  {
   "cell_type": "code",
   "execution_count": 2,
   "metadata": {},
   "outputs": [
    {
     "data": {
      "text/plain": [
       "'11 11 2000 10003 22 123 1234000 44444444 9999'"
      ]
     },
     "execution_count": 2,
     "metadata": {},
     "output_type": "execute_result"
    }
   ],
   "source": [
    "order_weight(\"2000 10003 1234000 44444444 9999 11 11 22 123\")"
   ]
  },
  {
   "cell_type": "code",
   "execution_count": 3,
   "metadata": {},
   "outputs": [
    {
     "data": {
      "text/plain": [
       "'100 180 90 56 65 74 68 86 99'"
      ]
     },
     "execution_count": 3,
     "metadata": {},
     "output_type": "execute_result"
    }
   ],
   "source": [
    "order_weight(\"56 65 74 100 99 68 86 180 90\")"
   ]
  },
  {
   "cell_type": "code",
   "execution_count": null,
   "metadata": {},
   "outputs": [],
   "source": []
  }
 ],
 "metadata": {
  "kernelspec": {
   "display_name": "Python 3",
   "language": "python",
   "name": "python3"
  },
  "language_info": {
   "codemirror_mode": {
    "name": "ipython",
    "version": 3
   },
   "file_extension": ".py",
   "mimetype": "text/x-python",
   "name": "python",
   "nbconvert_exporter": "python",
   "pygments_lexer": "ipython3",
   "version": "3.6.8"
  }
 },
 "nbformat": 4,
 "nbformat_minor": 2
}
